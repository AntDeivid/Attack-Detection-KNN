{
 "cells": [
  {
   "cell_type": "markdown",
   "metadata": {
    "id": "3ozr-N1_ehPL"
   },
   "source": [
    "Melhor K "
   ]
  },
  {
   "cell_type": "code",
   "execution_count": 1,
   "metadata": {
    "id": "I-lCXF8_eYi0"
   },
   "outputs": [],
   "source": [
    "import pandas as pd\n",
    "import seaborn as sns\n",
    "import matplotlib.pyplot as plt\n",
    "import numpy as np\n",
    "import sklearn\n",
    "%matplotlib inline"
   ]
  },
  {
   "cell_type": "code",
   "execution_count": 2,
   "metadata": {
    "id": "wlckoQNgiXK7"
   },
   "outputs": [],
   "source": [
    "#Importando e lendo os dados\n",
    "df_normal = pd.read_csv(\"copy_benign_traffic.csv\", index_col=0)\n",
    "df_attack=pd.read_csv('copy_scan.csv', index_col=0)"
   ]
  },
  {
   "cell_type": "code",
   "execution_count": 3,
   "metadata": {
    "id": "V9DndZKGkjet"
   },
   "outputs": [],
   "source": [
    "#classificação binária dos dados para verificar número de pacotes\n",
    "df_normal['TARGET CLASS']= 0\n",
    "df_attack['TARGET CLASS']= 1\n",
    "#print(dados, dados[\"Classe\"])"
   ]
  },
  {
   "cell_type": "code",
   "execution_count": 4,
   "metadata": {
    "colab": {
     "base_uri": "https://localhost:8080/"
    },
    "id": "P9r5EvZnk8L1",
    "outputId": "bdf26ce1-e46a-42b0-916d-0902997fb91f"
   },
   "outputs": [
    {
     "data": {
      "text/plain": [
       "(56305, 115)"
      ]
     },
     "execution_count": 4,
     "metadata": {},
     "output_type": "execute_result"
    }
   ],
   "source": [
    "#combinando os dados nomral com attaques\n",
    "df=pd.concat([df_normal,df_attack],axis=0)\n",
    "df.shape"
   ]
  },
  {
   "cell_type": "code",
   "execution_count": 5,
   "metadata": {
    "colab": {
     "base_uri": "https://localhost:8080/",
     "height": 293
    },
    "id": "9xb8Y8tafLu_",
    "outputId": "0e4a91e2-2136-4a02-e205-02dc4a56aa61"
   },
   "outputs": [
    {
     "data": {
      "text/html": [
       "<div>\n",
       "<style scoped>\n",
       "    .dataframe tbody tr th:only-of-type {\n",
       "        vertical-align: middle;\n",
       "    }\n",
       "\n",
       "    .dataframe tbody tr th {\n",
       "        vertical-align: top;\n",
       "    }\n",
       "\n",
       "    .dataframe thead th {\n",
       "        text-align: right;\n",
       "    }\n",
       "</style>\n",
       "<table border=\"1\" class=\"dataframe\">\n",
       "  <thead>\n",
       "    <tr style=\"text-align: right;\">\n",
       "      <th></th>\n",
       "      <th>MI_dir_L5_mean</th>\n",
       "      <th>MI_dir_L5_variance</th>\n",
       "      <th>MI_dir_L3_weight</th>\n",
       "      <th>MI_dir_L3_mean</th>\n",
       "      <th>MI_dir_L3_variance</th>\n",
       "      <th>MI_dir_L1_weight</th>\n",
       "      <th>MI_dir_L1_mean</th>\n",
       "      <th>MI_dir_L1_variance</th>\n",
       "      <th>MI_dir_L0.1_weight</th>\n",
       "      <th>MI_dir_L0.1_mean</th>\n",
       "      <th>...</th>\n",
       "      <th>HpHp_L0.1_covariance</th>\n",
       "      <th>HpHp_L0.1_pcc</th>\n",
       "      <th>HpHp_L0.01_weight</th>\n",
       "      <th>HpHp_L0.01_mean</th>\n",
       "      <th>HpHp_L0.01_std</th>\n",
       "      <th>HpHp_L0.01_magnitude</th>\n",
       "      <th>HpHp_L0.01_radius</th>\n",
       "      <th>HpHp_L0.01_covariance</th>\n",
       "      <th>HpHp_L0.01_pcc</th>\n",
       "      <th>TARGET CLASS</th>\n",
       "    </tr>\n",
       "    <tr>\n",
       "      <th>MI_dir_L5_weight</th>\n",
       "      <th></th>\n",
       "      <th></th>\n",
       "      <th></th>\n",
       "      <th></th>\n",
       "      <th></th>\n",
       "      <th></th>\n",
       "      <th></th>\n",
       "      <th></th>\n",
       "      <th></th>\n",
       "      <th></th>\n",
       "      <th></th>\n",
       "      <th></th>\n",
       "      <th></th>\n",
       "      <th></th>\n",
       "      <th></th>\n",
       "      <th></th>\n",
       "      <th></th>\n",
       "      <th></th>\n",
       "      <th></th>\n",
       "      <th></th>\n",
       "      <th></th>\n",
       "    </tr>\n",
       "  </thead>\n",
       "  <tbody>\n",
       "    <tr>\n",
       "      <th>1.000000</th>\n",
       "      <td>60.000000</td>\n",
       "      <td>0.000000</td>\n",
       "      <td>1.000000</td>\n",
       "      <td>60.000000</td>\n",
       "      <td>0.000000</td>\n",
       "      <td>1.000000</td>\n",
       "      <td>60.000000</td>\n",
       "      <td>0.000000</td>\n",
       "      <td>1.000000</td>\n",
       "      <td>60.000000</td>\n",
       "      <td>...</td>\n",
       "      <td>0.0</td>\n",
       "      <td>0.0</td>\n",
       "      <td>1.000000</td>\n",
       "      <td>60.000000</td>\n",
       "      <td>0.000000</td>\n",
       "      <td>60.000000</td>\n",
       "      <td>0.000000</td>\n",
       "      <td>0.0</td>\n",
       "      <td>0.0</td>\n",
       "      <td>0</td>\n",
       "    </tr>\n",
       "    <tr>\n",
       "      <th>1.000000</th>\n",
       "      <td>110.000000</td>\n",
       "      <td>0.000000</td>\n",
       "      <td>1.000000</td>\n",
       "      <td>110.000000</td>\n",
       "      <td>0.000000</td>\n",
       "      <td>1.000000</td>\n",
       "      <td>110.000000</td>\n",
       "      <td>0.000000</td>\n",
       "      <td>1.000000</td>\n",
       "      <td>110.000000</td>\n",
       "      <td>...</td>\n",
       "      <td>0.0</td>\n",
       "      <td>0.0</td>\n",
       "      <td>1.238636</td>\n",
       "      <td>106.146795</td>\n",
       "      <td>7.887770</td>\n",
       "      <td>106.146795</td>\n",
       "      <td>62.216910</td>\n",
       "      <td>0.0</td>\n",
       "      <td>0.0</td>\n",
       "      <td>0</td>\n",
       "    </tr>\n",
       "    <tr>\n",
       "      <th>1.724055</th>\n",
       "      <td>91.439104</td>\n",
       "      <td>249.441812</td>\n",
       "      <td>1.823878</td>\n",
       "      <td>92.454965</td>\n",
       "      <td>253.612868</td>\n",
       "      <td>1.937463</td>\n",
       "      <td>93.483558</td>\n",
       "      <td>255.733288</td>\n",
       "      <td>1.993563</td>\n",
       "      <td>93.948338</td>\n",
       "      <td>...</td>\n",
       "      <td>0.0</td>\n",
       "      <td>0.0</td>\n",
       "      <td>1.000000</td>\n",
       "      <td>78.000000</td>\n",
       "      <td>0.000000</td>\n",
       "      <td>78.000000</td>\n",
       "      <td>0.000000</td>\n",
       "      <td>0.0</td>\n",
       "      <td>0.0</td>\n",
       "      <td>0</td>\n",
       "    </tr>\n",
       "    <tr>\n",
       "      <th>1.000000</th>\n",
       "      <td>342.000000</td>\n",
       "      <td>0.000000</td>\n",
       "      <td>1.000000</td>\n",
       "      <td>342.000000</td>\n",
       "      <td>0.000000</td>\n",
       "      <td>1.000000</td>\n",
       "      <td>342.000000</td>\n",
       "      <td>0.000000</td>\n",
       "      <td>1.000000</td>\n",
       "      <td>342.000000</td>\n",
       "      <td>...</td>\n",
       "      <td>0.0</td>\n",
       "      <td>0.0</td>\n",
       "      <td>2.487473</td>\n",
       "      <td>341.959189</td>\n",
       "      <td>7.347919</td>\n",
       "      <td>341.959189</td>\n",
       "      <td>53.991908</td>\n",
       "      <td>0.0</td>\n",
       "      <td>0.0</td>\n",
       "      <td>0</td>\n",
       "    </tr>\n",
       "    <tr>\n",
       "      <th>2.516815</th>\n",
       "      <td>90.867308</td>\n",
       "      <td>150.827639</td>\n",
       "      <td>2.688981</td>\n",
       "      <td>91.541993</td>\n",
       "      <td>160.705060</td>\n",
       "      <td>2.888469</td>\n",
       "      <td>92.277536</td>\n",
       "      <td>169.944112</td>\n",
       "      <td>2.988463</td>\n",
       "      <td>92.627145</td>\n",
       "      <td>...</td>\n",
       "      <td>0.0</td>\n",
       "      <td>0.0</td>\n",
       "      <td>2.237519</td>\n",
       "      <td>98.930412</td>\n",
       "      <td>9.942635</td>\n",
       "      <td>98.930412</td>\n",
       "      <td>98.855983</td>\n",
       "      <td>0.0</td>\n",
       "      <td>0.0</td>\n",
       "      <td>0</td>\n",
       "    </tr>\n",
       "  </tbody>\n",
       "</table>\n",
       "<p>5 rows × 115 columns</p>\n",
       "</div>"
      ],
      "text/plain": [
       "                  MI_dir_L5_mean  MI_dir_L5_variance  MI_dir_L3_weight  \\\n",
       "MI_dir_L5_weight                                                         \n",
       "1.000000               60.000000            0.000000          1.000000   \n",
       "1.000000              110.000000            0.000000          1.000000   \n",
       "1.724055               91.439104          249.441812          1.823878   \n",
       "1.000000              342.000000            0.000000          1.000000   \n",
       "2.516815               90.867308          150.827639          2.688981   \n",
       "\n",
       "                  MI_dir_L3_mean  MI_dir_L3_variance  MI_dir_L1_weight  \\\n",
       "MI_dir_L5_weight                                                         \n",
       "1.000000               60.000000            0.000000          1.000000   \n",
       "1.000000              110.000000            0.000000          1.000000   \n",
       "1.724055               92.454965          253.612868          1.937463   \n",
       "1.000000              342.000000            0.000000          1.000000   \n",
       "2.516815               91.541993          160.705060          2.888469   \n",
       "\n",
       "                  MI_dir_L1_mean  MI_dir_L1_variance  MI_dir_L0.1_weight  \\\n",
       "MI_dir_L5_weight                                                           \n",
       "1.000000               60.000000            0.000000            1.000000   \n",
       "1.000000              110.000000            0.000000            1.000000   \n",
       "1.724055               93.483558          255.733288            1.993563   \n",
       "1.000000              342.000000            0.000000            1.000000   \n",
       "2.516815               92.277536          169.944112            2.988463   \n",
       "\n",
       "                  MI_dir_L0.1_mean  ...  HpHp_L0.1_covariance  HpHp_L0.1_pcc  \\\n",
       "MI_dir_L5_weight                    ...                                        \n",
       "1.000000                 60.000000  ...                   0.0            0.0   \n",
       "1.000000                110.000000  ...                   0.0            0.0   \n",
       "1.724055                 93.948338  ...                   0.0            0.0   \n",
       "1.000000                342.000000  ...                   0.0            0.0   \n",
       "2.516815                 92.627145  ...                   0.0            0.0   \n",
       "\n",
       "                  HpHp_L0.01_weight  HpHp_L0.01_mean  HpHp_L0.01_std  \\\n",
       "MI_dir_L5_weight                                                       \n",
       "1.000000                   1.000000        60.000000        0.000000   \n",
       "1.000000                   1.238636       106.146795        7.887770   \n",
       "1.724055                   1.000000        78.000000        0.000000   \n",
       "1.000000                   2.487473       341.959189        7.347919   \n",
       "2.516815                   2.237519        98.930412        9.942635   \n",
       "\n",
       "                  HpHp_L0.01_magnitude  HpHp_L0.01_radius  \\\n",
       "MI_dir_L5_weight                                            \n",
       "1.000000                     60.000000           0.000000   \n",
       "1.000000                    106.146795          62.216910   \n",
       "1.724055                     78.000000           0.000000   \n",
       "1.000000                    341.959189          53.991908   \n",
       "2.516815                     98.930412          98.855983   \n",
       "\n",
       "                  HpHp_L0.01_covariance  HpHp_L0.01_pcc  TARGET CLASS  \n",
       "MI_dir_L5_weight                                                       \n",
       "1.000000                            0.0             0.0             0  \n",
       "1.000000                            0.0             0.0             0  \n",
       "1.724055                            0.0             0.0             0  \n",
       "1.000000                            0.0             0.0             0  \n",
       "2.516815                            0.0             0.0             0  \n",
       "\n",
       "[5 rows x 115 columns]"
      ]
     },
     "execution_count": 5,
     "metadata": {},
     "output_type": "execute_result"
    }
   ],
   "source": [
    "df.head()"
   ]
  },
  {
   "cell_type": "code",
   "execution_count": 6,
   "metadata": {
    "colab": {
     "base_uri": "https://localhost:8080/"
    },
    "id": "mHx-ourkfR9U",
    "outputId": "40fa7262-56ea-4544-87ff-c9e33c9659e3"
   },
   "outputs": [
    {
     "name": "stdout",
     "output_type": "stream",
     "text": [
      "<class 'pandas.core.frame.DataFrame'>\n",
      "Float64Index: 56305 entries, 1.0 to 118.97230590483744\n",
      "Columns: 115 entries, MI_dir_L5_mean to TARGET CLASS\n",
      "dtypes: float64(114), int64(1)\n",
      "memory usage: 49.8 MB\n"
     ]
    }
   ],
   "source": [
    "df.info()\n"
   ]
  },
  {
   "cell_type": "code",
   "execution_count": 7,
   "metadata": {
    "id": "o8pxX5xifTn8"
   },
   "outputs": [],
   "source": [
    "from sklearn.preprocessing import StandardScaler\n"
   ]
  },
  {
   "cell_type": "code",
   "execution_count": 8,
   "metadata": {
    "id": "EAvtzl4sfXBk"
   },
   "outputs": [],
   "source": [
    "scaler = StandardScaler()"
   ]
  },
  {
   "cell_type": "code",
   "execution_count": 9,
   "metadata": {
    "colab": {
     "base_uri": "https://localhost:8080/"
    },
    "id": "zy-cxaJxfZqb",
    "outputId": "a38c4c7f-8f0e-48a9-a403-2676a6a7e41b"
   },
   "outputs": [
    {
     "data": {
      "text/plain": [
       "StandardScaler()"
      ]
     },
     "execution_count": 9,
     "metadata": {},
     "output_type": "execute_result"
    }
   ],
   "source": [
    "scaler.fit(df.drop('TARGET CLASS', axis=1))"
   ]
  },
  {
   "cell_type": "code",
   "execution_count": 10,
   "metadata": {
    "id": "v_gYpBOwfcg6"
   },
   "outputs": [],
   "source": [
    "#Fazendo o dataframe ficar \"padronizado\", ou seja, pronto para manipulá-lo\n",
    "df_normalizado = scaler.transform(df.drop('TARGET CLASS', axis=1))"
   ]
  },
  {
   "cell_type": "code",
   "execution_count": 11,
   "metadata": {
    "colab": {
     "base_uri": "https://localhost:8080/"
    },
    "id": "zQdyyocPfgVS",
    "outputId": "7abb77cf-d87a-449d-d193-e602ff963e86"
   },
   "outputs": [
    {
     "data": {
      "text/plain": [
       "array([[-0.36480769, -0.21315444, -1.34909375, ..., -0.36992838,\n",
       "         0.25464303,  0.27847817],\n",
       "       [ 0.16449749, -0.21315444, -1.34909375, ..., -0.3667743 ,\n",
       "         0.25464303,  0.27847817],\n",
       "       [-0.03199008, -0.17722782, -1.33217814, ..., -0.36992838,\n",
       "         0.25464303,  0.27847817],\n",
       "       ...,\n",
       "       [-0.36480769, -0.21315444,  1.53359947, ..., -0.36992838,\n",
       "         0.25464303,  0.27847817],\n",
       "       [-0.36480769, -0.21315444,  1.5501009 , ..., -0.36992838,\n",
       "         0.25464303,  0.27847817],\n",
       "       [-0.36480769, -0.21315444,  1.56647679, ..., -0.36992838,\n",
       "         0.25464303,  0.27847817]])"
      ]
     },
     "execution_count": 11,
     "metadata": {},
     "output_type": "execute_result"
    }
   ],
   "source": [
    "df_normalizado\n"
   ]
  },
  {
   "cell_type": "code",
   "execution_count": 12,
   "metadata": {
    "id": "ohFP4MSJfuNl"
   },
   "outputs": [],
   "source": [
    "df_param = pd.DataFrame(df_normalizado, columns=df.columns[:-1])"
   ]
  },
  {
   "cell_type": "code",
   "execution_count": 13,
   "metadata": {
    "colab": {
     "base_uri": "https://localhost:8080/",
     "height": 246
    },
    "id": "xfSvkxc1gVMa",
    "outputId": "3406c2aa-7b51-4af2-e8b1-9b2bc26a9047"
   },
   "outputs": [
    {
     "data": {
      "text/html": [
       "<div>\n",
       "<style scoped>\n",
       "    .dataframe tbody tr th:only-of-type {\n",
       "        vertical-align: middle;\n",
       "    }\n",
       "\n",
       "    .dataframe tbody tr th {\n",
       "        vertical-align: top;\n",
       "    }\n",
       "\n",
       "    .dataframe thead th {\n",
       "        text-align: right;\n",
       "    }\n",
       "</style>\n",
       "<table border=\"1\" class=\"dataframe\">\n",
       "  <thead>\n",
       "    <tr style=\"text-align: right;\">\n",
       "      <th></th>\n",
       "      <th>MI_dir_L5_mean</th>\n",
       "      <th>MI_dir_L5_variance</th>\n",
       "      <th>MI_dir_L3_weight</th>\n",
       "      <th>MI_dir_L3_mean</th>\n",
       "      <th>MI_dir_L3_variance</th>\n",
       "      <th>MI_dir_L1_weight</th>\n",
       "      <th>MI_dir_L1_mean</th>\n",
       "      <th>MI_dir_L1_variance</th>\n",
       "      <th>MI_dir_L0.1_weight</th>\n",
       "      <th>MI_dir_L0.1_mean</th>\n",
       "      <th>...</th>\n",
       "      <th>HpHp_L0.1_radius</th>\n",
       "      <th>HpHp_L0.1_covariance</th>\n",
       "      <th>HpHp_L0.1_pcc</th>\n",
       "      <th>HpHp_L0.01_weight</th>\n",
       "      <th>HpHp_L0.01_mean</th>\n",
       "      <th>HpHp_L0.01_std</th>\n",
       "      <th>HpHp_L0.01_magnitude</th>\n",
       "      <th>HpHp_L0.01_radius</th>\n",
       "      <th>HpHp_L0.01_covariance</th>\n",
       "      <th>HpHp_L0.01_pcc</th>\n",
       "    </tr>\n",
       "  </thead>\n",
       "  <tbody>\n",
       "    <tr>\n",
       "      <th>0</th>\n",
       "      <td>-0.364808</td>\n",
       "      <td>-0.213154</td>\n",
       "      <td>-1.349094</td>\n",
       "      <td>-0.384477</td>\n",
       "      <td>-0.233462</td>\n",
       "      <td>-1.678495</td>\n",
       "      <td>-0.417793</td>\n",
       "      <td>-0.284049</td>\n",
       "      <td>-1.732754</td>\n",
       "      <td>-0.484258</td>\n",
       "      <td>...</td>\n",
       "      <td>-0.290262</td>\n",
       "      <td>0.208017</td>\n",
       "      <td>0.235824</td>\n",
       "      <td>-0.466334</td>\n",
       "      <td>-0.445297</td>\n",
       "      <td>-0.432024</td>\n",
       "      <td>-0.452779</td>\n",
       "      <td>-0.369928</td>\n",
       "      <td>0.254643</td>\n",
       "      <td>0.278478</td>\n",
       "    </tr>\n",
       "    <tr>\n",
       "      <th>1</th>\n",
       "      <td>0.164497</td>\n",
       "      <td>-0.213154</td>\n",
       "      <td>-1.349094</td>\n",
       "      <td>0.145110</td>\n",
       "      <td>-0.233462</td>\n",
       "      <td>-1.678495</td>\n",
       "      <td>0.109342</td>\n",
       "      <td>-0.284049</td>\n",
       "      <td>-1.732754</td>\n",
       "      <td>0.093143</td>\n",
       "      <td>...</td>\n",
       "      <td>-0.290262</td>\n",
       "      <td>0.208017</td>\n",
       "      <td>0.235824</td>\n",
       "      <td>-0.393215</td>\n",
       "      <td>0.197382</td>\n",
       "      <td>-0.305154</td>\n",
       "      <td>-0.068600</td>\n",
       "      <td>-0.366774</td>\n",
       "      <td>0.254643</td>\n",
       "      <td>0.278478</td>\n",
       "    </tr>\n",
       "    <tr>\n",
       "      <th>2</th>\n",
       "      <td>-0.031990</td>\n",
       "      <td>-0.177228</td>\n",
       "      <td>-1.332178</td>\n",
       "      <td>-0.040722</td>\n",
       "      <td>-0.202665</td>\n",
       "      <td>-1.668340</td>\n",
       "      <td>-0.064786</td>\n",
       "      <td>-0.256188</td>\n",
       "      <td>-1.731542</td>\n",
       "      <td>-0.092222</td>\n",
       "      <td>...</td>\n",
       "      <td>-0.290262</td>\n",
       "      <td>0.208017</td>\n",
       "      <td>0.235824</td>\n",
       "      <td>-0.466334</td>\n",
       "      <td>-0.194614</td>\n",
       "      <td>-0.432024</td>\n",
       "      <td>-0.302926</td>\n",
       "      <td>-0.369928</td>\n",
       "      <td>0.254643</td>\n",
       "      <td>0.278478</td>\n",
       "    </tr>\n",
       "    <tr>\n",
       "      <th>3</th>\n",
       "      <td>2.620474</td>\n",
       "      <td>-0.213154</td>\n",
       "      <td>-1.349094</td>\n",
       "      <td>2.602394</td>\n",
       "      <td>-0.233462</td>\n",
       "      <td>-1.678495</td>\n",
       "      <td>2.555253</td>\n",
       "      <td>-0.284049</td>\n",
       "      <td>-1.732754</td>\n",
       "      <td>2.772284</td>\n",
       "      <td>...</td>\n",
       "      <td>-0.290262</td>\n",
       "      <td>0.208017</td>\n",
       "      <td>0.235824</td>\n",
       "      <td>-0.010568</td>\n",
       "      <td>3.481501</td>\n",
       "      <td>-0.313837</td>\n",
       "      <td>1.894574</td>\n",
       "      <td>-0.367191</td>\n",
       "      <td>0.254643</td>\n",
       "      <td>0.278478</td>\n",
       "    </tr>\n",
       "    <tr>\n",
       "      <th>4</th>\n",
       "      <td>-0.038043</td>\n",
       "      <td>-0.191431</td>\n",
       "      <td>-1.314416</td>\n",
       "      <td>-0.050392</td>\n",
       "      <td>-0.213947</td>\n",
       "      <td>-1.658039</td>\n",
       "      <td>-0.077501</td>\n",
       "      <td>-0.265534</td>\n",
       "      <td>-1.730328</td>\n",
       "      <td>-0.107479</td>\n",
       "      <td>...</td>\n",
       "      <td>-0.284005</td>\n",
       "      <td>0.208017</td>\n",
       "      <td>0.235824</td>\n",
       "      <td>-0.087155</td>\n",
       "      <td>0.096880</td>\n",
       "      <td>-0.272103</td>\n",
       "      <td>-0.128677</td>\n",
       "      <td>-0.364917</td>\n",
       "      <td>0.254643</td>\n",
       "      <td>0.278478</td>\n",
       "    </tr>\n",
       "  </tbody>\n",
       "</table>\n",
       "<p>5 rows × 114 columns</p>\n",
       "</div>"
      ],
      "text/plain": [
       "   MI_dir_L5_mean  MI_dir_L5_variance  MI_dir_L3_weight  MI_dir_L3_mean  \\\n",
       "0       -0.364808           -0.213154         -1.349094       -0.384477   \n",
       "1        0.164497           -0.213154         -1.349094        0.145110   \n",
       "2       -0.031990           -0.177228         -1.332178       -0.040722   \n",
       "3        2.620474           -0.213154         -1.349094        2.602394   \n",
       "4       -0.038043           -0.191431         -1.314416       -0.050392   \n",
       "\n",
       "   MI_dir_L3_variance  MI_dir_L1_weight  MI_dir_L1_mean  MI_dir_L1_variance  \\\n",
       "0           -0.233462         -1.678495       -0.417793           -0.284049   \n",
       "1           -0.233462         -1.678495        0.109342           -0.284049   \n",
       "2           -0.202665         -1.668340       -0.064786           -0.256188   \n",
       "3           -0.233462         -1.678495        2.555253           -0.284049   \n",
       "4           -0.213947         -1.658039       -0.077501           -0.265534   \n",
       "\n",
       "   MI_dir_L0.1_weight  MI_dir_L0.1_mean  ...  HpHp_L0.1_radius  \\\n",
       "0           -1.732754         -0.484258  ...         -0.290262   \n",
       "1           -1.732754          0.093143  ...         -0.290262   \n",
       "2           -1.731542         -0.092222  ...         -0.290262   \n",
       "3           -1.732754          2.772284  ...         -0.290262   \n",
       "4           -1.730328         -0.107479  ...         -0.284005   \n",
       "\n",
       "   HpHp_L0.1_covariance  HpHp_L0.1_pcc  HpHp_L0.01_weight  HpHp_L0.01_mean  \\\n",
       "0              0.208017       0.235824          -0.466334        -0.445297   \n",
       "1              0.208017       0.235824          -0.393215         0.197382   \n",
       "2              0.208017       0.235824          -0.466334        -0.194614   \n",
       "3              0.208017       0.235824          -0.010568         3.481501   \n",
       "4              0.208017       0.235824          -0.087155         0.096880   \n",
       "\n",
       "   HpHp_L0.01_std  HpHp_L0.01_magnitude  HpHp_L0.01_radius  \\\n",
       "0       -0.432024             -0.452779          -0.369928   \n",
       "1       -0.305154             -0.068600          -0.366774   \n",
       "2       -0.432024             -0.302926          -0.369928   \n",
       "3       -0.313837              1.894574          -0.367191   \n",
       "4       -0.272103             -0.128677          -0.364917   \n",
       "\n",
       "   HpHp_L0.01_covariance  HpHp_L0.01_pcc  \n",
       "0               0.254643        0.278478  \n",
       "1               0.254643        0.278478  \n",
       "2               0.254643        0.278478  \n",
       "3               0.254643        0.278478  \n",
       "4               0.254643        0.278478  \n",
       "\n",
       "[5 rows x 114 columns]"
      ]
     },
     "execution_count": 13,
     "metadata": {},
     "output_type": "execute_result"
    }
   ],
   "source": [
    "df_param.head()\n"
   ]
  },
  {
   "cell_type": "code",
   "execution_count": 14,
   "metadata": {
    "id": "TOdF3HRkgXD6"
   },
   "outputs": [],
   "source": [
    "from sklearn.model_selection import train_test_split\n",
    "X_train, X_test, y_train, y_test = train_test_split(df_param, df['TARGET CLASS'], test_size=0.3)"
   ]
  },
  {
   "cell_type": "code",
   "execution_count": 15,
   "metadata": {
    "id": "UyNvHKwqgdDh"
   },
   "outputs": [],
   "source": [
    "from sklearn.neighbors import KNeighborsClassifier\n",
    "knn = KNeighborsClassifier(n_neighbors=1)"
   ]
  },
  {
   "cell_type": "code",
   "execution_count": 16,
   "metadata": {
    "colab": {
     "base_uri": "https://localhost:8080/"
    },
    "id": "hU8DuW8wg4K8",
    "outputId": "7ec68a75-f211-4701-9da6-3542576eafb0"
   },
   "outputs": [
    {
     "data": {
      "text/plain": [
       "KNeighborsClassifier(n_neighbors=1)"
      ]
     },
     "execution_count": 16,
     "metadata": {},
     "output_type": "execute_result"
    }
   ],
   "source": [
    "knn.fit(X_train, y_train)"
   ]
  },
  {
   "cell_type": "code",
   "execution_count": 17,
   "metadata": {
    "id": "H2PhG67Xg44k"
   },
   "outputs": [],
   "source": [
    "pred = knn.predict(X_test)"
   ]
  },
  {
   "cell_type": "code",
   "execution_count": 18,
   "metadata": {
    "colab": {
     "base_uri": "https://localhost:8080/"
    },
    "id": "tNKmWL0vg6zN",
    "outputId": "7a06c56c-25c1-4de7-8295-e523d31ff20d"
   },
   "outputs": [
    {
     "name": "stdout",
     "output_type": "stream",
     "text": [
      "              precision    recall  f1-score   support\n",
      "\n",
      "           0       1.00      1.00      1.00      3961\n",
      "           1       1.00      1.00      1.00     12931\n",
      "\n",
      "    accuracy                           1.00     16892\n",
      "   macro avg       1.00      1.00      1.00     16892\n",
      "weighted avg       1.00      1.00      1.00     16892\n",
      "\n"
     ]
    }
   ],
   "source": [
    "from sklearn.metrics import classification_report, confusion_matrix\n",
    "print(classification_report(y_test, pred))\n"
   ]
  },
  {
   "cell_type": "code",
   "execution_count": 19,
   "metadata": {
    "colab": {
     "base_uri": "https://localhost:8080/"
    },
    "id": "kbqWzL2NhEhK",
    "outputId": "279dc776-33bc-474e-8574-08bd1a8dc26f"
   },
   "outputs": [
    {
     "name": "stdout",
     "output_type": "stream",
     "text": [
      "[[ 3960     1]\n",
      " [    0 12931]]\n"
     ]
    }
   ],
   "source": [
    "print(confusion_matrix(y_test, pred))"
   ]
  },
  {
   "cell_type": "code",
   "execution_count": null,
   "metadata": {
    "id": "sAOdPFTHhQQK"
   },
   "outputs": [],
   "source": [
    "# Taxa de erro de cada k\n",
    "error_rate = []\n",
    "best_k = 0\n",
    "\n",
    "for i in range(1, 80):\n",
    "    knn = KNeighborsClassifier(n_neighbors=i)\n",
    "    knn.fit(X_train, y_train)\n",
    "    pred = knn.predict(X_test)\n",
    "    error_rate.append(np.mean(pred!=y_test))"
   ]
  },
  {
   "cell_type": "code",
   "execution_count": null,
   "metadata": {
    "colab": {
     "base_uri": "https://localhost:8080/"
    },
    "id": "rVfCqE8kgfgC",
    "outputId": "f336d466-68c4-4f3d-820e-2bdaaefc1afe"
   },
   "outputs": [],
   "source": [
    "error_rate"
   ]
  },
  {
   "cell_type": "code",
   "execution_count": null,
   "metadata": {
    "id": "67tStlDVhpcG"
   },
   "outputs": [],
   "source": [
    "# Leitura de todas as taxas de erro e filtragem das 5 menores\n",
    "mini = 100\n",
    "bests = []\n",
    "control = 0\n",
    "\n",
    "j = 0\n",
    "while j <= 4:\n",
    "    for i in range(len(error_rate)):\n",
    "        if error_rate[i] < mini and i not in bests:\n",
    "            best_k = i\n",
    "            mini = error_rate[i]\n",
    "    bests.append(best_k)\n",
    "    mini = 100\n",
    "    j += 1"
   ]
  },
  {
   "cell_type": "code",
   "execution_count": null,
   "metadata": {},
   "outputs": [],
   "source": [
    "print(len(bests))"
   ]
  },
  {
   "cell_type": "code",
   "execution_count": null,
   "metadata": {},
   "outputs": [],
   "source": [
    "print(bests)"
   ]
  },
  {
   "cell_type": "code",
   "execution_count": null,
   "metadata": {},
   "outputs": [],
   "source": [
    "# Indicação de qual k é a taxa de erro\n",
    "for k in bests:\n",
    "    print(k, \"-->\", error_rate[k])\n",
    "bests[0] = 1"
   ]
  },
  {
   "cell_type": "code",
   "execution_count": null,
   "metadata": {},
   "outputs": [],
   "source": [
    "plt.figure(figsize=(14, 8))\n",
    "plt.plot(range(1,80), error_rate, color='blue', linestyle='dashed', marker='o')\n",
    "plt.xlabel('k')\n",
    "plt.ylabel('Taxa de erro')"
   ]
  },
  {
   "cell_type": "code",
   "execution_count": null,
   "metadata": {},
   "outputs": [],
   "source": [
    "# Listagem de acurácias dos melhores k\n",
    "acurracy_list = []\n",
    "for k in bests:\n",
    "    knn = KNeighborsClassifier(n_neighbors=k)\n",
    "    knn.fit(X_train, y_train)\n",
    "    pred = knn.predict(X_test)\n",
    "    print(k, \"-->\", sklearn.metrics.accuracy_score(y_test, pred))\n",
    "    acurracy_list.append(sklearn.metrics.accuracy_score(y_test, pred))"
   ]
  },
  {
   "cell_type": "code",
   "execution_count": null,
   "metadata": {},
   "outputs": [],
   "source": [
    "plt.figure(figsize=(14, 8))\n",
    "plt.title(\"Gráfico de acurácia em relação aos melhores K\")\n",
    "plt.scatter(bests, acurracy_list, label='Acurácia em relação ao K', color='red')\n",
    "plt.plot(bests, acurracy_list, linestyle='dashed')\n",
    "plt.legend()\n",
    "plt.xlabel('K')\n",
    "plt.ylabel('Acurácia')"
   ]
  },
  {
   "cell_type": "code",
   "execution_count": null,
   "metadata": {},
   "outputs": [],
   "source": [
    "# Definição do melhor k\n",
    "theBestK = bests[0] # O melhor k é tido como o primeiro elemento da lista de melhores pois o algoritmo de seleção acha primeiro o menor e o adiciona na lista. Depois, como o menor já está na lista, ele pega o segundo menor (que é o segundo da lista) e assim por diante\n",
    "print(theBestK)"
   ]
  },
  {
   "cell_type": "code",
   "execution_count": null,
   "metadata": {},
   "outputs": [],
   "source": [
    "print(theBestK)\n",
    "knn = KNeighborsClassifier(n_neighbors=theBestK)\n",
    "knn.fit(X_train, y_train)\n",
    "pred = knn.predict(X_test)"
   ]
  },
  {
   "cell_type": "code",
   "execution_count": null,
   "metadata": {},
   "outputs": [],
   "source": [
    "print(classification_report(y_test, pred))"
   ]
  },
  {
   "cell_type": "code",
   "execution_count": null,
   "metadata": {
    "colab": {
     "base_uri": "https://localhost:8080/",
     "height": 292
    },
    "id": "fKMAdjtYyy5y",
    "outputId": "2ea37d3e-cb5f-4520-e87d-66136e7f9811"
   },
   "outputs": [],
   "source": [
    "#AVALIAÇÃO SVM\n",
    "print(\"-------------------------------\")\n",
    "print(\"AVALIAÇÃO KNN\")\n",
    "print(\"-------------------------------\")\n",
    "accuracy_knn = sklearn.metrics.accuracy_score(y_test, pred)\n",
    "print('Accuracy: %f' % (accuracy_knn))\n",
    "#precision tp / (tp + fp)\n",
    "precision_knn = sklearn.metrics.precision_score(y_test, pred)\n",
    "print('Precision: %f' % precision_knn)\n",
    "# recall: tp / (tp + fn)\n",
    "recall_knn = sklearn.metrics.recall_score(y_test, pred)\n",
    "print('Recall: %f' % recall_knn)\n",
    "#f1: 2 tp / (2 tp + fp + fn)\n",
    "f1_knn = sklearn.metrics.f1_score(y_test, pred)\n",
    "print('F1 score: %f' % f1_knn)\n",
    "auc_knn = sklearn.metrics.roc_auc_score(y_test, pred)\n",
    "print('ROC AUC: %f' % auc_knn)\n",
    "# confusion matrix\n",
    "matrix_knn = confusion_matrix(y_test, pred)\n",
    "print(matrix_knn)\n"
   ]
  },
  {
   "cell_type": "code",
   "execution_count": null,
   "metadata": {
    "id": "WVUnYjtvYH4D"
   },
   "outputs": [],
   "source": []
  }
 ],
 "metadata": {
  "colab": {
   "collapsed_sections": [],
   "name": "Melhor_K.ipynb",
   "provenance": []
  },
  "kernelspec": {
   "display_name": "Python 3",
   "language": "python",
   "name": "python3"
  },
  "language_info": {
   "codemirror_mode": {
    "name": "ipython",
    "version": 3
   },
   "file_extension": ".py",
   "mimetype": "text/x-python",
   "name": "python",
   "nbconvert_exporter": "python",
   "pygments_lexer": "ipython3",
   "version": "3.8.5"
  }
 },
 "nbformat": 4,
 "nbformat_minor": 1
}
